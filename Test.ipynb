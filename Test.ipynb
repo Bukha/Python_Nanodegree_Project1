{
 "cells": [
  {
   "cell_type": "code",
   "execution_count": 1,
   "metadata": {},
   "outputs": [
    {
     "name": "stdout",
     "output_type": "stream",
     "text": [
      "433\n",
      "None\n",
      "nan\n",
      "False\n",
      "A NearEarthObject 433 has a diameter of nan km and is not potentially hazardous \n"
     ]
    }
   ],
   "source": [
    "\n",
    "from models import NearEarthObject, CloseApproach\n",
    "\n",
    "neo = NearEarthObject( designation='433' ,)  # Use any sample data here.\n",
    "\n",
    "print(neo.designation)\n",
    "print(neo.name)\n",
    "print(neo.diameter)\n",
    "print(neo.hazardous)\n",
    "\n",
    "print(neo)\n"
   ]
  },
  {
   "cell_type": "code",
   "execution_count": 2,
   "metadata": {},
   "outputs": [
    {
     "name": "stdout",
     "output_type": "stream",
     "text": [
      "433\n",
      "Khello \n",
      "nan\n",
      "True\n",
      "A NearEarthObject 433 (Khello ) has a diameter of nan km and is potentially hazardous \n"
     ]
    }
   ],
   "source": [
    "from models import NearEarthObject, CloseApproach\n",
    "\n",
    "neo = NearEarthObject( designation='433' ,name='Khello ',hazardous='Y' )  # Use any sample data here.\n",
    "\n",
    "print(neo.designation)\n",
    "print(neo.name)\n",
    "print(neo.diameter)\n",
    "print(neo.hazardous)\n",
    "print(neo)\n"
   ]
  },
  {
   "cell_type": "code",
   "execution_count": 3,
   "metadata": {},
   "outputs": [
    {
     "name": "stdout",
     "output_type": "stream",
     "text": [
      "<class 'datetime.datetime'>\n",
      "2020-12-31 12:00\n",
      "405.0\n",
      "54443.0\n",
      "At 2020-12-31 12:00, 433 (Khello ) approaches Earth at a distance of 405.00 au and a velocity of 54443.00 km/s.\n"
     ]
    }
   ],
   "source": [
    "ca = CloseApproach(time='2020-Dec-31 12:00' , distance='405' , velocity= '54443'  ,neo=neo )\n",
    "print(type(ca.time))\n",
    "print(ca.time_str)\n",
    "print(ca.distance)\n",
    "print(ca.velocity)\n",
    "print(ca)\n"
   ]
  },
  {
   "cell_type": "code",
   "execution_count": null,
   "metadata": {},
   "outputs": [],
   "source": []
  }
 ],
 "metadata": {
  "kernelspec": {
   "display_name": "Python 3.9.7 ('base')",
   "language": "python",
   "name": "python3"
  },
  "language_info": {
   "codemirror_mode": {
    "name": "ipython",
    "version": 3
   },
   "file_extension": ".py",
   "mimetype": "text/x-python",
   "name": "python",
   "nbconvert_exporter": "python",
   "pygments_lexer": "ipython3",
   "version": "3.9.7"
  },
  "orig_nbformat": 4,
  "vscode": {
   "interpreter": {
    "hash": "fc1c5f4ee47fe234dce7526bbcc9e7c2a96c7cd743954bea54cee9e219ad5df8"
   }
  }
 },
 "nbformat": 4,
 "nbformat_minor": 2
}
